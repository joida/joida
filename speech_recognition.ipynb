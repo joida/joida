{
  "nbformat": 4,
  "nbformat_minor": 0,
  "metadata": {
    "colab": {
      "name": "Untitled0.ipynb",
      "provenance": [],
      "mount_file_id": "1e9xZuEuBCAcamtcCgtuPlN9l0kgx4AGF",
      "authorship_tag": "ABX9TyP5DCk0SZXbJX14FE4ImGzr",
      "include_colab_link": true
    },
    "kernelspec": {
      "name": "python3",
      "display_name": "Python 3"
    },
    "language_info": {
      "name": "python"
    }
  },
  "cells": [
    {
      "cell_type": "markdown",
      "metadata": {
        "id": "view-in-github",
        "colab_type": "text"
      },
      "source": [
        "<a href=\"https://colab.research.google.com/github/joida/joida/blob/main/speech_recognition.ipynb\" target=\"_parent\"><img src=\"https://colab.research.google.com/assets/colab-badge.svg\" alt=\"Open In Colab\"/></a>"
      ]
    },
    {
      "cell_type": "code",
      "source": [
        "from google.colab import drive\n",
        "drive.mount('/content/drive')"
      ],
      "metadata": {
        "colab": {
          "base_uri": "https://localhost:8080/"
        },
        "id": "fyYwJisUw7fE",
        "outputId": "94080ce6-5e6d-4c62-fea9-ff6de00c7d85"
      },
      "execution_count": 6,
      "outputs": [
        {
          "output_type": "stream",
          "name": "stdout",
          "text": [
            "Mounted at /content/drive\n"
          ]
        }
      ]
    },
    {
      "cell_type": "code",
      "source": [
        "pip install transformers"
      ],
      "metadata": {
        "id": "Gw_YRAttw-BS"
      },
      "execution_count": null,
      "outputs": []
    },
    {
      "cell_type": "code",
      "source": [
        "import torch\n",
        "import librosa\n",
        "import numpy as np\n",
        "import soundfile as sf\n",
        "from scipy.io import wavfile\n",
        "from IPython.display import Audio\n",
        "from transformers import Wav2Vec2ForCTC, Wav2Vec2Tokenizer"
      ],
      "metadata": {
        "id": "cQ3a-a2Dvmnx"
      },
      "execution_count": 19,
      "outputs": []
    },
    {
      "cell_type": "code",
      "source": [
        "tokenizer = Wav2Vec2Tokenizer.from_pretrained(\"facebook/wav2vec2-base-960h\")\n",
        "model = Wav2Vec2ForCTC.from_pretrained(\"facebook/wav2vec2-base-960h\")"
      ],
      "metadata": {
        "id": "lmPgmGW7xEq2"
      },
      "execution_count": null,
      "outputs": []
    },
    {
      "cell_type": "code",
      "source": [
        "# file_name = '/content/drive/MyDrive/notebook.wav'\n",
        "file_name = '/content/drive/MyDrive/01_137_13_eng.wav'\n",
        "Audio(file_name)"
      ],
      "metadata": {
        "colab": {
          "base_uri": "https://localhost:8080/",
          "height": 74
        },
        "id": "0AtFrQ4nxGaV",
        "outputId": "db2c244b-0cc9-4937-de39-05dbd07d737d"
      },
      "execution_count": 21,
      "outputs": [
        {
          "output_type": "execute_result",
          "data": {
            "text/plain": [
              "<IPython.lib.display.Audio object>"
            ],
            "text/html": [
              "\n",
              "                <audio controls=\"controls\" >\n",
              "                    <source src=\"data:audio/x-wav;base64,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\" type=\"audio/x-wav\" />\n",
              "                    Your browser does not support the audio element.\n",
              "                </audio>\n",
              "              "
            ]
          },
          "metadata": {},
          "execution_count": 21
        }
      ]
    },
    {
      "cell_type": "code",
      "source": [
        "data = wavfile.read(file_name)\n",
        "framerate = data[0]\n",
        "sounddata = data[1]\n",
        "time = np.arange(0,len(sounddata))/framerate\n",
        "print('Sampling rate:',framerate,'Hz')"
      ],
      "metadata": {
        "colab": {
          "base_uri": "https://localhost:8080/",
          "height": 400
        },
        "id": "mQgzYfZIxHhj",
        "outputId": "95f868e9-c0db-4d2a-e8da-06f4a192d265"
      },
      "execution_count": 22,
      "outputs": [
        {
          "output_type": "error",
          "ename": "ValueError",
          "evalue": "ignored",
          "traceback": [
            "\u001b[0;31m---------------------------------------------------------------------------\u001b[0m",
            "\u001b[0;31mValueError\u001b[0m                                Traceback (most recent call last)",
            "\u001b[0;32m<ipython-input-22-13f00634ac39>\u001b[0m in \u001b[0;36m<module>\u001b[0;34m()\u001b[0m\n\u001b[0;32m----> 1\u001b[0;31m \u001b[0mdata\u001b[0m \u001b[0;34m=\u001b[0m \u001b[0mwavfile\u001b[0m\u001b[0;34m.\u001b[0m\u001b[0mread\u001b[0m\u001b[0;34m(\u001b[0m\u001b[0mfile_name\u001b[0m\u001b[0;34m)\u001b[0m\u001b[0;34m\u001b[0m\u001b[0;34m\u001b[0m\u001b[0m\n\u001b[0m\u001b[1;32m      2\u001b[0m \u001b[0mframerate\u001b[0m \u001b[0;34m=\u001b[0m \u001b[0mdata\u001b[0m\u001b[0;34m[\u001b[0m\u001b[0;36m0\u001b[0m\u001b[0;34m]\u001b[0m\u001b[0;34m\u001b[0m\u001b[0;34m\u001b[0m\u001b[0m\n\u001b[1;32m      3\u001b[0m \u001b[0msounddata\u001b[0m \u001b[0;34m=\u001b[0m \u001b[0mdata\u001b[0m\u001b[0;34m[\u001b[0m\u001b[0;36m1\u001b[0m\u001b[0;34m]\u001b[0m\u001b[0;34m\u001b[0m\u001b[0;34m\u001b[0m\u001b[0m\n\u001b[1;32m      4\u001b[0m \u001b[0mtime\u001b[0m \u001b[0;34m=\u001b[0m \u001b[0mnp\u001b[0m\u001b[0;34m.\u001b[0m\u001b[0marange\u001b[0m\u001b[0;34m(\u001b[0m\u001b[0;36m0\u001b[0m\u001b[0;34m,\u001b[0m\u001b[0mlen\u001b[0m\u001b[0;34m(\u001b[0m\u001b[0msounddata\u001b[0m\u001b[0;34m)\u001b[0m\u001b[0;34m)\u001b[0m\u001b[0;34m/\u001b[0m\u001b[0mframerate\u001b[0m\u001b[0;34m\u001b[0m\u001b[0;34m\u001b[0m\u001b[0m\n\u001b[1;32m      5\u001b[0m \u001b[0mprint\u001b[0m\u001b[0;34m(\u001b[0m\u001b[0;34m'Sampling rate:'\u001b[0m\u001b[0;34m,\u001b[0m\u001b[0mframerate\u001b[0m\u001b[0;34m,\u001b[0m\u001b[0;34m'Hz'\u001b[0m\u001b[0;34m)\u001b[0m\u001b[0;34m\u001b[0m\u001b[0;34m\u001b[0m\u001b[0m\n",
            "\u001b[0;32m/usr/local/lib/python3.7/dist-packages/scipy/io/wavfile.py\u001b[0m in \u001b[0;36mread\u001b[0;34m(filename, mmap)\u001b[0m\n\u001b[1;32m    265\u001b[0m \u001b[0;34m\u001b[0m\u001b[0m\n\u001b[1;32m    266\u001b[0m     \u001b[0;32mtry\u001b[0m\u001b[0;34m:\u001b[0m\u001b[0;34m\u001b[0m\u001b[0;34m\u001b[0m\u001b[0m\n\u001b[0;32m--> 267\u001b[0;31m         \u001b[0mfile_size\u001b[0m\u001b[0;34m,\u001b[0m \u001b[0mis_big_endian\u001b[0m \u001b[0;34m=\u001b[0m \u001b[0m_read_riff_chunk\u001b[0m\u001b[0;34m(\u001b[0m\u001b[0mfid\u001b[0m\u001b[0;34m)\u001b[0m\u001b[0;34m\u001b[0m\u001b[0;34m\u001b[0m\u001b[0m\n\u001b[0m\u001b[1;32m    268\u001b[0m         \u001b[0mfmt_chunk_received\u001b[0m \u001b[0;34m=\u001b[0m \u001b[0;32mFalse\u001b[0m\u001b[0;34m\u001b[0m\u001b[0;34m\u001b[0m\u001b[0m\n\u001b[1;32m    269\u001b[0m         \u001b[0mdata_chunk_received\u001b[0m \u001b[0;34m=\u001b[0m \u001b[0;32mFalse\u001b[0m\u001b[0;34m\u001b[0m\u001b[0;34m\u001b[0m\u001b[0m\n",
            "\u001b[0;32m/usr/local/lib/python3.7/dist-packages/scipy/io/wavfile.py\u001b[0m in \u001b[0;36m_read_riff_chunk\u001b[0;34m(fid)\u001b[0m\n\u001b[1;32m    166\u001b[0m         \u001b[0;31m# There are also .wav files with \"FFIR\" or \"XFIR\" signatures?\u001b[0m\u001b[0;34m\u001b[0m\u001b[0;34m\u001b[0m\u001b[0;34m\u001b[0m\u001b[0m\n\u001b[1;32m    167\u001b[0m         raise ValueError(\"File format {}... not \"\n\u001b[0;32m--> 168\u001b[0;31m                          \"understood.\".format(repr(str1)))\n\u001b[0m\u001b[1;32m    169\u001b[0m \u001b[0;34m\u001b[0m\u001b[0m\n\u001b[1;32m    170\u001b[0m     \u001b[0;31m# Size of entire file\u001b[0m\u001b[0;34m\u001b[0m\u001b[0;34m\u001b[0m\u001b[0;34m\u001b[0m\u001b[0m\n",
            "\u001b[0;31mValueError\u001b[0m: File format b'\\xff\\xf3D\\xc4'... not understood."
          ]
        }
      ]
    },
    {
      "cell_type": "code",
      "source": [
        "input_audio, _ = librosa.load(file_name, sr=16000)"
      ],
      "metadata": {
        "colab": {
          "base_uri": "https://localhost:8080/"
        },
        "id": "uzUxqe_xxJe_",
        "outputId": "7ddced22-1dad-4f51-b39c-fcde6e9db082"
      },
      "execution_count": 23,
      "outputs": [
        {
          "output_type": "stream",
          "name": "stderr",
          "text": [
            "/usr/local/lib/python3.7/dist-packages/librosa/core/audio.py:165: UserWarning: PySoundFile failed. Trying audioread instead.\n",
            "  warnings.warn(\"PySoundFile failed. Trying audioread instead.\")\n"
          ]
        }
      ]
    },
    {
      "cell_type": "code",
      "source": [
        "input_values = tokenizer(input_audio, return_tensors=\"pt\").input_values\n",
        "logits = model(input_values).logits\n",
        "predicted_ids = torch.argmax(logits, dim=-1)\n",
        "transcription = tokenizer.batch_decode(predicted_ids)[0]\n",
        "print(transcription)"
      ],
      "metadata": {
        "colab": {
          "base_uri": "https://localhost:8080/"
        },
        "id": "jr7F8HY9xKyv",
        "outputId": "d73f322b-f2e2-4772-847a-141703fbec15"
      },
      "execution_count": 24,
      "outputs": [
        {
          "output_type": "stream",
          "name": "stdout",
          "text": [
            "I DON'T KNOW LET'S JUST BE FRIENDS\n"
          ]
        }
      ]
    }
  ]
}